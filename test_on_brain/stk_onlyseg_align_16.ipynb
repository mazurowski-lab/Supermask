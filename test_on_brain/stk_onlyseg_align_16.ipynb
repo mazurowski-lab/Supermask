{
 "cells": [
  {
   "cell_type": "code",
   "execution_count": 2,
   "id": "0a65c4a3-03b6-4c98-bdea-d267c7c5a9d3",
   "metadata": {},
   "outputs": [],
   "source": [
    "## traditional registration"
   ]
  },
  {
   "cell_type": "code",
   "execution_count": 1,
   "id": "1c905afc-4514-44eb-9939-be0197173339",
   "metadata": {},
   "outputs": [],
   "source": [
    "import SimpleITK as sitk\n",
    "import os\n",
    "from ipywidgets import interact, fixed\n",
    "import matplotlib.pyplot as plt\n",
    "import torchio as tio\n",
    "from monai.transforms import Affine\n",
    "from monai.data import ITKWriter\n",
    "import nibabel as nib\n",
    "import numpy as np\n",
    "from scipy.ndimage import zoom\n",
    "from medipy.metrics import dice"
   ]
  },
  {
   "cell_type": "code",
   "execution_count": 2,
   "id": "0b74d74d-d721-4870-8c78-7eab550e7ebd",
   "metadata": {},
   "outputs": [],
   "source": [
    "datapath = os.path.join('./generated_pairs_16/images/')\n",
    "dataFiles  = sorted(os.listdir(datapath))\n",
    "dataFiles = [i for i in dataFiles if not i.startswith('.')]\n",
    "dataFiles = dataFiles[int(0.8*len(dataFiles)):]\n",
    "img_name = 'y.nii.gz'"
   ]
  },
  {
   "cell_type": "code",
   "execution_count": 3,
   "id": "5690f585-39cc-4b6e-8387-39dd9eeeb9eb",
   "metadata": {},
   "outputs": [],
   "source": [
    "case_name = 'Brats18_TCIA08_469_1'"
   ]
  },
  {
   "cell_type": "code",
   "execution_count": 23,
   "id": "d8d90c63-25fb-4879-a893-dafaaeb1bce5",
   "metadata": {},
   "outputs": [],
   "source": [
    "moving_image = sitk.ReadImage(os.path.join('test_onlyseg_results_brain_16',case_name,'image_' + img_name))\n",
    "moving_label = sitk.ReadImage(os.path.join('test_onlyseg_results_brain_16',case_name,'pre_seg_' + img_name))\n",
    "fixed_image = sitk.ReadImage(os.path.join('test_onlyseg_results_brain_16',case_name,'gt_x.nii.gz'))"
   ]
  },
  {
   "cell_type": "code",
   "execution_count": 4,
   "id": "815028df-9519-4bf4-a468-0b8c61093218",
   "metadata": {},
   "outputs": [],
   "source": [
    "%matplotlib inline\n",
    "import matplotlib.pyplot as plt\n",
    "\n",
    "from ipywidgets import interact, fixed\n",
    "from IPython.display import clear_output\n",
    "\n",
    "# Callback invoked by the interact IPython method for scrolling through the image stacks of\n",
    "# the two images (moving and fixed).\n",
    "def display_images(fixed_image_z, moving_image_z, fixed_npa, moving_npa):\n",
    "    # Create a figure with two subplots and the specified size.\n",
    "    plt.subplots(1,2,figsize=(10,8))\n",
    "    \n",
    "    # Draw the fixed image in the first subplot.\n",
    "    plt.subplot(1,2,1)\n",
    "    plt.imshow(fixed_npa[fixed_image_z,:,:],cmap=plt.cm.Greys_r);\n",
    "    plt.title('fixed image')\n",
    "    plt.axis('off')\n",
    "    \n",
    "    # Draw the moving image in the second subplot.\n",
    "    plt.subplot(1,2,2)\n",
    "    plt.imshow(moving_npa[moving_image_z,:,:],cmap=plt.cm.Greys_r);\n",
    "    plt.title('moving image')\n",
    "    plt.axis('off')\n",
    "    \n",
    "    plt.show()\n",
    "\n",
    "# Callback invoked by the IPython interact method for scrolling and modifying the alpha blending\n",
    "# of an image stack of two images that occupy the same physical space. \n",
    "def display_images_with_alpha(image_z, alpha, fixed, moving):\n",
    "    img = (1.0 - alpha)*fixed[:,:,image_z] + alpha*moving[:,:,image_z] \n",
    "    plt.imshow(sitk.GetArrayViewFromImage(img),cmap=plt.cm.Greys_r);\n",
    "    plt.axis('off')\n",
    "    plt.show()\n",
    "    \n",
    "# Callback invoked when the StartEvent happens, sets up our new data.\n",
    "def start_plot():\n",
    "    global metric_values, multires_iterations\n",
    "    \n",
    "    metric_values = []\n",
    "    multires_iterations = []\n",
    "\n",
    "# Callback invoked when the EndEvent happens, do cleanup of data and figure.\n",
    "def end_plot():\n",
    "    global metric_values, multires_iterations\n",
    "    \n",
    "    del metric_values\n",
    "    del multires_iterations\n",
    "    # Close figure, we don't want to get a duplicate of the plot latter on.\n",
    "    plt.close()\n",
    "\n",
    "# Callback invoked when the IterationEvent happens, update our data and display new figure.\n",
    "def plot_values(registration_method):\n",
    "    global metric_values, multires_iterations\n",
    "    \n",
    "    metric_values.append(registration_method.GetMetricValue())                                       \n",
    "    # Clear the output area (wait=True, to reduce flickering), and plot current data\n",
    "    clear_output(wait=True)\n",
    "    # Plot the similarity metric values\n",
    "    plt.plot(metric_values, 'r')\n",
    "    plt.plot(multires_iterations, [metric_values[index] for index in multires_iterations], 'b*')\n",
    "    plt.xlabel('Iteration Number',fontsize=12)\n",
    "    plt.ylabel('Metric Value',fontsize=12)\n",
    "    plt.show()\n",
    "    \n",
    "# Callback invoked when the sitkMultiResolutionIterationEvent happens, update the index into the \n",
    "# metric_values list. \n",
    "def update_multires_iterations():\n",
    "    global metric_values, multires_iterations\n",
    "    multires_iterations.append(len(metric_values))"
   ]
  },
  {
   "cell_type": "code",
   "execution_count": 25,
   "id": "38b82edf-976c-4790-9966-89565a43f3d6",
   "metadata": {},
   "outputs": [],
   "source": [
    "initial_transform = sitk.CenteredTransformInitializer(fixed_image, \n",
    "                                                      moving_image, \n",
    "                                                      sitk.Euler3DTransform(), \n",
    "                                                      sitk.CenteredTransformInitializerFilter.GEOMETRY)\n",
    "\n",
    "#moving_resampled = sitk.Resample(moving_image, fixed_image, initial_transform, sitk.sitkLinear, 0.0, moving_image.GetPixelID())\n",
    "\n",
    "#interact(display_images_with_alpha, image_z=(0,fixed_image.GetSize()[2]-1), alpha=(0.0,1.0,0.05), fixed = fixed(fixed_image), moving=fixed(moving_resampled));"
   ]
  },
  {
   "cell_type": "code",
   "execution_count": 26,
   "id": "df76f0d9-fdfb-4a97-80fd-81523407e3f1",
   "metadata": {},
   "outputs": [
    {
     "data": {
      "image/png": "[encoded data removed]",
      "text/plain": [
       "<Figure size 432x288 with 1 Axes>"
      ]
     },
     "metadata": {
      "needs_background": "light"
     },
     "output_type": "display_data"
    }
   ],
   "source": [
    "registration_method = sitk.ImageRegistrationMethod()\n",
    "\n",
    "# Similarity metric settings.\n",
    "registration_method.SetMetricAsCorrelation()\n",
    "registration_method.SetMetricSamplingStrategy(registration_method.RANDOM)\n",
    "registration_method.SetMetricSamplingPercentage(0.01)\n",
    "\n",
    "registration_method.SetInterpolator(sitk.sitkLinear)\n",
    "\n",
    "# Optimizer settings.\n",
    "registration_method.SetOptimizerAsGradientDescent(learningRate=1, numberOfIterations=500, convergenceMinimumValue=1e-6, convergenceWindowSize=10)\n",
    "registration_method.SetOptimizerScalesFromPhysicalShift()\n",
    "\n",
    "# Setup for the multi-resolution framework.            \n",
    "#registration_method.SetShrinkFactorsPerLevel(shrinkFactors = [4,2,1])\n",
    "#registration_method.SetSmoothingSigmasPerLevel(smoothingSigmas=[2,1,0])\n",
    "#registration_method.SmoothingSigmasAreSpecifiedInPhysicalUnitsOn()\n",
    "\n",
    "# Don't optimize in-place, we would possibly like to run this cell multiple times.\n",
    "registration_method.SetInitialTransform(initial_transform, inPlace=False)\n",
    "\n",
    "# Connect all of the observers so that we can perform plotting during registration.\n",
    "registration_method.AddCommand(sitk.sitkStartEvent, start_plot)\n",
    "registration_method.AddCommand(sitk.sitkEndEvent, end_plot)\n",
    "registration_method.AddCommand(sitk.sitkMultiResolutionIterationEvent, update_multires_iterations) \n",
    "registration_method.AddCommand(sitk.sitkIterationEvent, lambda: plot_values(registration_method))\n",
    "\n",
    "final_transform = registration_method.Execute(sitk.Cast(fixed_image, sitk.sitkFloat32), \n",
    "                                               sitk.Cast(moving_image, sitk.sitkFloat32))"
   ]
  },
  {
   "cell_type": "code",
   "execution_count": 46,
   "id": "262c583d-a650-4e3d-8c8b-6e1b02d062d2",
   "metadata": {},
   "outputs": [
    {
     "data": {
      "application/vnd.jupyter.widget-view+json": {
       "model_id": "6d1ca4b53e9e4aa59f8d48a9317e1f99",
       "version_major": 2,
       "version_minor": 0
      },
      "text/plain": [
       "interactive(children=(IntSlider(value=63, description='image_z', max=127), FloatSlider(value=0.5, description=…"
      ]
     },
     "metadata": {},
     "output_type": "display_data"
    }
   ],
   "source": [
    "moving_resampled = sitk.Resample(moving_image, fixed_image, final_transform, sitk.sitkLinear, 0.0, moving_image.GetPixelID())\n",
    "moving_resampled_label = sitk.Resample(moving_label, fixed_image, final_transform, sitk.sitkLinear, 0.0, moving_image.GetPixelID())\n",
    "sitk.WriteImage(moving_resampled_label, os.path.join('test_onlyseg_results_128',case_name,'itk_resampled_mask_' + img_name))\n",
    "sitk.WriteImage(moving_resampled, os.path.join('test_onlyseg_results_128',case_name,'itk_resampled_image_'+ img_name))\n",
    "interact(display_images_with_alpha, image_z=(0,fixed_image.GetSize()[2] - 1), alpha=(0.0,1.0,0.05), fixed = fixed(fixed_image), moving=fixed(moving_resampled));"
   ]
  },
  {
   "cell_type": "code",
   "execution_count": 121,
   "id": "e1576b21-053b-469f-9483-2e5fc1c30cf4",
   "metadata": {},
   "outputs": [],
   "source": [
    "mask = tio.ScalarImage(os.path.join('HGG',case_name,case_name+'_seg.nii.gz'))\n",
    "transform = tio.CropOrPad(\n",
    "    (256, 256, 256),\n",
    ")\n",
    "mask = transform(mask).data\n",
    "high_mask = mask"
   ]
  },
  {
   "cell_type": "code",
   "execution_count": 122,
   "id": "f6ee451d-44f9-4e7f-a1df-73609234c48f",
   "metadata": {},
   "outputs": [],
   "source": [
    "eval_mask= nib.load(os.path.join('./generated_pairs_8/masks/',case_name,img_name))\n",
    "readdata1 = np.array(eval_mask.dataobj)\n",
    "mask = np.expand_dims(readdata1,axis=0)\n",
    "low_mask_x = zoom(mask,(1,1/2,1/2,1/2),order=1)"
   ]
  },
  {
   "cell_type": "code",
   "execution_count": 123,
   "id": "7b60f593-85fb-4731-86cf-c1811ca9e6a7",
   "metadata": {},
   "outputs": [],
   "source": [
    "align_mask= nib.load(os.path.join('test_onlyseg_results_128',case_name,'itk_resampled_mask_' + img_name))\n",
    "pre_segA_x = np.array(align_mask.dataobj)\n",
    "align_image= nib.load(os.path.join('test_onlyseg_results_128',case_name,'itk_resampled_image_' + img_name))\n",
    "align_image_x = np.array(align_image.dataobj)"
   ]
  },
  {
   "cell_type": "code",
   "execution_count": 124,
   "id": "e4f6c28f-0824-4e98-bff4-eea409d03217",
   "metadata": {},
   "outputs": [
    {
     "name": "stdout",
     "output_type": "stream",
     "text": [
      "dice for low resolution mask x\n",
      "[0.8559145]\n",
      "dice for high resolution mask x\n",
      "[0.86492149]\n"
     ]
    }
   ],
   "source": [
    "print('dice for low resolution mask x')\n",
    "print(dice(np.array(pre_segA_x)>0.5, np.array(low_mask_x[0])>0.1,nargout=1))\n",
    "print('dice for high resolution mask x')\n",
    "print(dice(np.array(zoom(pre_segA_x,(2,2,2),order=1))>0.5, np.array(high_mask[0])>0.1,nargout=1))"
   ]
  },
  {
   "cell_type": "code",
   "execution_count": 40,
   "id": "2e022d5b-474b-4da0-8530-7eed0a3f20a2",
   "metadata": {},
   "outputs": [
    {
     "data": {
      "text/plain": [
       "(-0.5, 127.5, 127.5, -0.5)"
      ]
     },
     "execution_count": 40,
     "metadata": {},
     "output_type": "execute_result"
    },
    {
     "data": {
      "image/png": "[encoded data removed]",
      "text/plain": [
       "<Figure size 720x720 with 9 Axes>"
      ]
     },
     "metadata": {
      "needs_background": "light"
     },
     "output_type": "display_data"
    }
   ],
   "source": [
    "fig,a =  plt.subplots(3,3, figsize=(10,10))\n",
    "a[0,0].imshow(align_image_x[64,:],cmap='gray')\n",
    "a[0,0].set_title('view1')\n",
    "a[0,0].axis('off')\n",
    "a[0,1].imshow(align_image_x[:,64,:],cmap='gray')\n",
    "a[0,1].set_title('view2')\n",
    "a[0,1].axis('off')\n",
    "a[0,2].imshow(align_image_x[:,:,64],cmap='gray')\n",
    "a[0,2].set_title('view3')\n",
    "a[0,2].axis('off')\n",
    "a[1,0].imshow(high_mask[0,128,:]>0,cmap='gray')\n",
    "a[1,0].set_title('view1')\n",
    "a[1,0].axis('off')\n",
    "a[1,1].imshow(high_mask[0,:,128,:]>0,cmap='gray')\n",
    "a[1,1].set_title('view2')\n",
    "a[1,1].axis('off')\n",
    "a[1,2].imshow(high_mask[0,:,:,128]>0,cmap='gray')\n",
    "a[1,2].set_title('view3')\n",
    "a[1,2].axis('off')\n",
    "a[2,0].imshow(pre_segA_x[64,:]>0.5,cmap='gray')\n",
    "a[2,0].set_title('view1')\n",
    "a[2,0].axis('off')\n",
    "a[2,1].imshow(pre_segA_x[:,64,:]>0.5,cmap='gray')\n",
    "a[2,1].set_title('view2')\n",
    "a[2,1].axis('off')\n",
    "a[2,2].imshow(pre_segA_x[:,:,64]>0.5,cmap='gray')\n",
    "a[2,2].set_title('view3')\n",
    "a[2,2].axis('off')"
   ]
  },
  {
   "cell_type": "code",
   "execution_count": 46,
   "id": "76c529c3-bd31-4f24-bb08-d686d316bf34",
   "metadata": {},
   "outputs": [],
   "source": [
    "def align(moving_image,moving_label,fixed_image):\n",
    "    initial_transform = sitk.CenteredTransformInitializer(fixed_image, \n",
    "                                                      moving_image, \n",
    "                                                      sitk.Euler3DTransform(), \n",
    "                                                      sitk.CenteredTransformInitializerFilter.GEOMETRY)\n",
    "   #interact(display_images_with_alpha, image_z=(0,fixed_image.GetSize()[2]-1), alpha=(0.0,1.0,0.05), fixed = fixed(fixed_image), moving=fixed(moving_resampled));\n",
    "    registration_method = sitk.ImageRegistrationMethod()\n",
    "\n",
    "    # Similarity metric settings.\n",
    "    registration_method.SetMetricAsCorrelation()\n",
    "    registration_method.SetMetricSamplingStrategy(registration_method.RANDOM)\n",
    "    registration_method.SetMetricSamplingPercentage(0.01)\n",
    "\n",
    "    registration_method.SetInterpolator(sitk.sitkLinear)\n",
    "\n",
    "    # Optimizer settings.\n",
    "    registration_method.SetOptimizerAsGradientDescent(learningRate=1, numberOfIterations=500, convergenceMinimumValue=1e-6, convergenceWindowSize=10)\n",
    "    registration_method.SetOptimizerScalesFromPhysicalShift()\n",
    "\n",
    "    # Setup for the multi-resolution framework.            \n",
    "    #registration_method.SetShrinkFactorsPerLevel(shrinkFactors = [4,2,1])\n",
    "    #registration_method.SetSmoothingSigmasPerLevel(smoothingSigmas=[2,1,0])\n",
    "    #registration_method.SmoothingSigmasAreSpecifiedInPhysicalUnitsOn()\n",
    "\n",
    "    # Don't optimize in-place, we would possibly like to run this cell multiple times.\n",
    "    registration_method.SetInitialTransform(initial_transform, inPlace=False)\n",
    "\n",
    "    # Connect all of the observers so that we can perform plotting during registration.\n",
    "    registration_method.AddCommand(sitk.sitkStartEvent, start_plot)\n",
    "    registration_method.AddCommand(sitk.sitkEndEvent, end_plot)\n",
    "    registration_method.AddCommand(sitk.sitkMultiResolutionIterationEvent, update_multires_iterations) \n",
    "    registration_method.AddCommand(sitk.sitkIterationEvent, lambda: plot_values(registration_method))\n",
    "\n",
    "    final_transform = registration_method.Execute(sitk.Cast(fixed_image, sitk.sitkFloat32), \n",
    "                                                   sitk.Cast(moving_image, sitk.sitkFloat32))\n",
    "    moving_resampled = sitk.Resample(moving_image, fixed_image, final_transform, sitk.sitkLinear, 0.0, moving_image.GetPixelID())\n",
    "    moving_resampled_label = sitk.Resample(moving_label, fixed_image, final_transform, sitk.sitkLinear, 0.0, moving_image.GetPixelID()) \n",
    "    return moving_resampled,moving_resampled_label,final_transform"
   ]
  },
  {
   "cell_type": "code",
   "execution_count": 29,
   "id": "2f3028e4-239e-4a86-be7e-d5ea61d5f0b8",
   "metadata": {},
   "outputs": [],
   "source": [
    "datapath = os.path.join('./generated_pairs_16/images/')\n",
    "dataFiles  = sorted(os.listdir(datapath))\n",
    "dataFiles = [i for i in dataFiles if not i.startswith('.')]\n",
    "dataFiles = dataFiles[int(0.8*len(dataFiles)):]\n",
    "dice_high_x = []\n",
    "dice_high_y = []\n",
    "dice_high_z = []"
   ]
  },
  {
   "cell_type": "code",
   "execution_count": 30,
   "id": "2a09a9d1-b6d0-411e-8b65-a6b4055b12e6",
   "metadata": {},
   "outputs": [
    {
     "data": {
      "text/plain": [
       "41"
      ]
     },
     "execution_count": 39,
     "metadata": {},
     "output_type": "execute_result"
    }
   ],
   "source": [
    "dataFiles.index('Brats18_TCIA08_469_1')"
   ]
  },
  {
   "cell_type": "code",
   "execution_count": 32,
   "id": "f96cc653-86cf-448a-8086-57ef761e4ebd",
   "metadata": {},
   "outputs": [
    {
     "data": {
      "text/plain": [
       "2"
      ]
     },
     "execution_count": 40,
     "metadata": {},
     "output_type": "execute_result"
    }
   ],
   "source": [
    "sitk.sitkLinear"
   ]
  },
  {
   "cell_type": "code",
   "execution_count": 50,
   "id": "8ff5135d-1f31-4355-ba4c-b2c712ebe60b",
   "metadata": {},
   "outputs": [
    {
     "data": {
      "image/png": "[encoded data removed]",
      "text/plain": [
       "<Figure size 432x288 with 1 Axes>"
      ]
     },
     "metadata": {
      "needs_background": "light"
     },
     "output_type": "display_data"
    },
    {
     "name": "stdout",
     "output_type": "stream",
     "text": [
      "dice for high resolution mask z\n",
      "[0.51184945]\n"
     ]
    }
   ],
   "source": [
    "for i in range(len(dataFiles)):\n",
    "    case_name = dataFiles[i]\n",
    "    mask = tio.ScalarImage(os.path.join('HGG',case_name,case_name+'_seg.nii.gz'))\n",
    "    transform = tio.CropOrPad(\n",
    "        (256, 256, 256),\n",
    "    )\n",
    "    mask = transform(mask).data\n",
    "    high_mask = mask\n",
    "\n",
    "    img_name = 'x.nii.gz'\n",
    "    moving_image = sitk.ReadImage(os.path.join('test_onlyseg_results_brain_16',case_name,'image_' + img_name))\n",
    "    moving_label = sitk.ReadImage(os.path.join('test_onlyseg_results_brain_16',case_name,'pre_seg_' + img_name))\n",
    "    fixed_image = sitk.ReadImage(os.path.join('test_onlyseg_results_brain_16',case_name,'gt_x.nii.gz'))\n",
    "    moving_resampled,moving_resampled_label,final_transform = align(moving_image,moving_label,fixed_image)\n",
    "    sitk.WriteImage(moving_resampled_label, os.path.join('test_onlyseg_results_brain_16',case_name,'itk_resampled_mask_' + img_name))\n",
    "    sitk.WriteImage(moving_resampled, os.path.join('test_onlyseg_results_brain_16',case_name,'itk_resampled_image_' + img_name))\n",
    "\n",
    "\n",
    "    align_mask= nib.load(os.path.join('test_onlyseg_results_brain_16',case_name,'itk_resampled_mask_'+ img_name))\n",
    "    pre_segA_x = np.array(align_mask.dataobj)\n",
    "\n",
    "    print('dice for high resolution mask x')\n",
    "    dice_now = dice(np.array(zoom(pre_segA_x,(2,2,2),order=1))>0.5, np.array(high_mask[0])>0.1,nargout=1)\n",
    "    dice_high_x.append(dice_now[0])\n",
    "    print(dice_now)\n",
    "\n",
    "    img_name = 'y.nii.gz'\n",
    "    moving_image = sitk.ReadImage(os.path.join('test_onlyseg_results_brain_16',case_name,'image_' + img_name))\n",
    "    moving_label = sitk.ReadImage(os.path.join('test_onlyseg_results_brain_16',case_name,'pre_seg_' + img_name))\n",
    "    fixed_image = sitk.ReadImage(os.path.join('test_onlyseg_results_brain_16',case_name,'gt_x.nii.gz'))\n",
    "    moving_resampled,moving_resampled_label,final_transform = align(moving_image,moving_label,fixed_image)\n",
    "\n",
    "    sitk.WriteImage(moving_resampled_label, os.path.join('test_onlyseg_results_brain_16',case_name,'itk_resampled_mask_' + img_name))\n",
    "    sitk.WriteImage(moving_resampled, os.path.join('test_onlyseg_results_brain_16',case_name,'itk_resampled_image_' + img_name))\n",
    "\n",
    "\n",
    "    align_mask= nib.load(os.path.join('test_onlyseg_results_brain_16',case_name,'itk_resampled_mask_'+ img_name))\n",
    "    pre_segA_y = np.array(align_mask.dataobj)\n",
    "\n",
    "    print('dice for high resolution mask y')\n",
    "    dice_now = dice(np.array(zoom(pre_segA_y,(2,2,2),order=1))>0.5, np.array(high_mask[0])>0.1,nargout=1)\n",
    "    dice_high_y.append(dice_now[0])\n",
    "    print(dice_now)\n",
    "\n",
    "    img_name = 'z.nii.gz'\n",
    "    moving_image = sitk.ReadImage(os.path.join('test_onlyseg_results_brain_16',case_name,'image_' + img_name))\n",
    "    moving_label = sitk.ReadImage(os.path.join('test_onlyseg_results_brain_16',case_name,'pre_seg_' + img_name))\n",
    "    fixed_image = sitk.ReadImage(os.path.join('test_onlyseg_results_brain_16',case_name,'gt_x.nii.gz'))\n",
    "    moving_resampled,moving_resampled_label,final_transform = align(moving_image,moving_label,fixed_image)\n",
    "\n",
    "    sitk.WriteImage(moving_resampled_label, os.path.join('test_onlyseg_results_brain_16',case_name,'itk_resampled_mask_' + img_name))\n",
    "    sitk.WriteImage(moving_resampled, os.path.join('test_onlyseg_results_brain_16',case_name,'itk_resampled_image_' + img_name))\n",
    "\n",
    "\n",
    "    align_mask= nib.load(os.path.join('test_onlyseg_results_brain_16',case_name,'itk_resampled_mask_'+ img_name))\n",
    "    pre_segA_z = np.array(align_mask.dataobj)\n",
    "\n",
    "    print('dice for high resolution mask z')\n",
    "    dice_now = dice(np.array(zoom(pre_segA_z,(2,2,2),order=1))>0.5, np.array(high_mask[0])>0.1,nargout=1)\n",
    "    dice_high_z.append(dice_now[0])\n",
    "    print(dice_now)"
   ]
  },
  {
   "cell_type": "code",
   "execution_count": 48,
   "id": "a38c421b-ebd1-4bea-8152-bf586916c98f",
   "metadata": {},
   "outputs": [],
   "source": [
    "img_name = 'x.nii.gz'\n",
    "moving_image = sitk.ReadImage(os.path.join('test_onlyseg_results_brain_16',case_name,'image_' + img_name))\n",
    "moving_label = sitk.ReadImage(os.path.join('test_onlyseg_results_brain_16',case_name,'pre_seg_' + img_name))"
   ]
  },
  {
   "cell_type": "code",
   "execution_count": 18,
   "id": "ce1467df-f6e0-4fb7-8cd3-45f593223e22",
   "metadata": {},
   "outputs": [],
   "source": [
    "img_name = 'x.nii.gz'\n",
    "align_mask= nib.load(os.path.join('test_onlyseg_results_brain_16',case_name,'itk_resampled_mask_'+ img_name))\n",
    "pre_segA_x = np.array(align_mask.dataobj)\n",
    "img_name = 'y.nii.gz'\n",
    "align_mask= nib.load(os.path.join('test_onlyseg_results_brain_16',case_name,'itk_resampled_mask_'+ img_name))\n",
    "pre_segA_y = np.array(align_mask.dataobj)\n",
    "img_name = 'z.nii.gz'\n",
    "align_mask= nib.load(os.path.join('test_onlyseg_results_brain_16',case_name,'itk_resampled_mask_'+ img_name))\n",
    "pre_segA_z = np.array(align_mask.dataobj)"
   ]
  },
  {
   "cell_type": "code",
   "execution_count": 1,
   "id": "3224d091-6015-48ef-bc4d-12f44dd70545",
   "metadata": {},
   "outputs": [
    {
     "ename": "NameError",
     "evalue": "name 'plt' is not defined",
     "output_type": "error",
     "traceback": [
      "\u001b[0;31m---------------------------------------------------------------------------\u001b[0m",
      "\u001b[0;31mNameError\u001b[0m                                 Traceback (most recent call last)",
      "\u001b[0;32m/tmp/ipykernel_909139/1293918278.py\u001b[0m in \u001b[0;36m<module>\u001b[0;34m\u001b[0m\n\u001b[0;32m----> 1\u001b[0;31m \u001b[0mplt\u001b[0m\u001b[0;34m.\u001b[0m\u001b[0mimshow\u001b[0m\u001b[0;34m(\u001b[0m\u001b[0mpre_segA_z\u001b[0m\u001b[0;34m[\u001b[0m\u001b[0;34m:\u001b[0m\u001b[0;34m,\u001b[0m\u001b[0;34m:\u001b[0m\u001b[0;34m,\u001b[0m\u001b[0;36m120\u001b[0m\u001b[0;34m]\u001b[0m\u001b[0;34m>\u001b[0m\u001b[0;36m0.5\u001b[0m\u001b[0;34m)\u001b[0m\u001b[0;34m\u001b[0m\u001b[0;34m\u001b[0m\u001b[0m\n\u001b[0m",
      "\u001b[0;31mNameError\u001b[0m: name 'plt' is not defined"
     ]
    }
   ],
   "source": [
    "plt.imshow(pre_segA_z[:,:,120]>0.5)"
   ]
  },
  {
   "cell_type": "code",
   "execution_count": null,
   "id": "a3cb7d1c-f3c6-420f-bdc9-67591d24defd",
   "metadata": {},
   "outputs": [
    {
     "name": "stdout",
     "output_type": "stream",
     "text": [
      "dice for overlap x and y\n",
      "0.832489040428641\n",
      "dice for overlap x and z\n",
      "0.8623571550400819\n",
      "dice for overlap y and z\n",
      "0.858604347935107\n",
      "dice for overlap x and y\n",
      "0.8604026440493797\n",
      "dice for overlap x and z\n",
      "0.8835556626215785\n",
      "dice for overlap y and z\n",
      "0.8924268001629897\n",
      "dice for overlap x and y\n",
      "0.9144546829872094\n",
      "dice for overlap x and z\n",
      "0.9150552486187845\n",
      "dice for overlap y and z\n",
      "0.9239798007370001\n",
      "dice for overlap x and y\n",
      "0.8536144898284379\n",
      "dice for overlap x and z\n",
      "0.8963922048228006\n",
      "dice for overlap y and z\n",
      "0.8764333170869353\n",
      "dice for overlap x and y\n",
      "0.09147782566383984\n",
      "dice for overlap x and z\n",
      "0.11081262592343855\n",
      "dice for overlap y and z\n",
      "0.6919562508652914\n",
      "dice for overlap x and y\n",
      "0.8970026151679743\n",
      "dice for overlap x and z\n",
      "0.8923639317627945\n",
      "dice for overlap y and z\n",
      "0.9152967121090617\n",
      "dice for overlap x and y\n",
      "0.9223513110211042\n",
      "dice for overlap x and z\n",
      "0.9189740835235666\n",
      "dice for overlap y and z\n",
      "0.9291442092809254\n",
      "dice for overlap x and y\n",
      "0.9151581929796946\n",
      "dice for overlap x and z\n",
      "0.9112449718825671\n",
      "dice for overlap y and z\n",
      "0.913792073886821\n",
      "dice for overlap x and y\n",
      "0.8726422137062658\n",
      "dice for overlap x and z\n",
      "0.8699609882964889\n",
      "dice for overlap y and z\n",
      "0.8830040633319322\n",
      "dice for overlap x and y\n",
      "0.9204583754634311\n",
      "dice for overlap x and z\n",
      "0.9157047131032152\n",
      "dice for overlap y and z\n",
      "0.9416879517417531\n",
      "dice for overlap x and y\n",
      "0.9216345972101463\n",
      "dice for overlap x and z\n",
      "0.9051231971153846\n",
      "dice for overlap y and z\n",
      "0.9112038813042987\n",
      "dice for overlap x and y\n",
      "0.9002144454076744\n",
      "dice for overlap x and z\n",
      "0.9070173084663894\n",
      "dice for overlap y and z\n",
      "0.9264426125554851\n",
      "dice for overlap x and y\n",
      "0.38601057340382267\n",
      "dice for overlap x and z\n",
      "0.27136150234741785\n",
      "dice for overlap y and z\n",
      "0.6871456254934328\n",
      "dice for overlap x and y\n",
      "0.9355976485956891\n",
      "dice for overlap x and z\n",
      "0.9211079764042062\n",
      "dice for overlap y and z\n",
      "0.9445558121241341\n",
      "dice for overlap x and y\n",
      "0.5715601611974669\n",
      "dice for overlap x and z\n",
      "0.6084965657593487\n",
      "dice for overlap y and z\n",
      "0.7913985245644326\n",
      "dice for overlap x and y\n",
      "0.9124152167502212\n",
      "dice for overlap x and z\n",
      "0.9141603704606386\n",
      "dice for overlap y and z\n",
      "0.927293452941468\n",
      "dice for overlap x and y\n",
      "0.9140846110304433\n",
      "dice for overlap x and z\n",
      "0.9043251592971616\n",
      "dice for overlap y and z\n",
      "0.9268539732304353\n",
      "dice for overlap x and y\n",
      "0.9301097114993905\n",
      "dice for overlap x and z\n",
      "0.9187969539242583\n",
      "dice for overlap y and z\n",
      "0.9440993788819876\n",
      "dice for overlap x and y\n",
      "0.9416337686000608\n",
      "dice for overlap x and z\n",
      "0.9017560512577124\n",
      "dice for overlap y and z\n",
      "0.9097381935036704\n",
      "dice for overlap x and y\n",
      "0.9227729651099676\n",
      "dice for overlap x and z\n",
      "0.9218791237793613\n",
      "dice for overlap y and z\n",
      "0.9264183810720822\n",
      "dice for overlap x and y\n",
      "0.9093328601845281\n",
      "dice for overlap x and z\n",
      "0.9219161464035269\n",
      "dice for overlap y and z\n",
      "0.9356595695103836\n",
      "dice for overlap x and y\n",
      "0.9278994802973488\n",
      "dice for overlap x and z\n",
      "0.931963545981773\n",
      "dice for overlap y and z\n",
      "0.9343995752729203\n",
      "dice for overlap x and y\n",
      "0.839377337159753\n",
      "dice for overlap x and z\n",
      "0.8976858921649242\n",
      "dice for overlap y and z\n",
      "0.8408985933235356\n",
      "dice for overlap x and y\n",
      "0.7017140353759378\n",
      "dice for overlap x and z\n",
      "0.9085443403861718\n",
      "dice for overlap y and z\n",
      "0.7205237811806721\n",
      "dice for overlap x and y\n",
      "0.9165842865885233\n",
      "dice for overlap x and z\n",
      "0.914553499214996\n",
      "dice for overlap y and z\n",
      "0.927564162827865\n",
      "dice for overlap x and y\n",
      "0.892874625521333\n",
      "dice for overlap x and z\n",
      "0.5294376014513511\n",
      "dice for overlap y and z\n",
      "0.5508547678795483\n",
      "dice for overlap x and y\n",
      "0.8785879070765599\n",
      "dice for overlap x and z\n",
      "0.8493786417779611\n",
      "dice for overlap y and z\n",
      "0.8772790276148843\n",
      "dice for overlap x and y\n",
      "0.9150567802271209\n",
      "dice for overlap x and z\n",
      "0.9136762993542924\n",
      "dice for overlap y and z\n",
      "0.9200685202266439\n",
      "dice for overlap x and y\n",
      "0.6671911880409127\n",
      "dice for overlap x and z\n",
      "0.78548475110653\n",
      "dice for overlap y and z\n",
      "0.7294356951336025\n",
      "dice for overlap x and y\n",
      "0.5255557034473579\n",
      "dice for overlap x and z\n",
      "0.5664221145028168\n",
      "dice for overlap y and z\n",
      "0.9136714155012416\n",
      "dice for overlap x and y\n",
      "0.9120237411449359\n",
      "dice for overlap x and z\n",
      "0.8722471253167023\n",
      "dice for overlap y and z\n",
      "0.8854295206454675\n",
      "dice for overlap x and y\n",
      "0.8847774054571566\n",
      "dice for overlap x and z\n",
      "0.9254239727506057\n",
      "dice for overlap y and z\n",
      "0.9018348838844235\n",
      "dice for overlap x and y\n",
      "0.9161130571325039\n",
      "dice for overlap x and z\n",
      "0.9060231166869954\n",
      "dice for overlap y and z\n",
      "0.9023253068932956\n",
      "dice for overlap x and y\n",
      "0.9202854845195014\n",
      "dice for overlap x and z\n",
      "0.909304223627831\n",
      "dice for overlap y and z\n",
      "0.9310030395136778\n",
      "dice for overlap x and y\n",
      "0.9148704344118622\n",
      "dice for overlap x and z\n",
      "0.9250083218412668\n",
      "dice for overlap y and z\n",
      "0.9231203538157523\n",
      "dice for overlap x and y\n",
      "0.9350968303103174\n",
      "dice for overlap x and z\n",
      "0.9397999240217805\n",
      "dice for overlap y and z\n",
      "0.9314722095787185\n",
      "dice for overlap x and y\n",
      "0.9059040590405905\n",
      "dice for overlap x and z\n",
      "0.880350737345556\n",
      "dice for overlap y and z\n",
      "0.8745132321385997\n",
      "dice for overlap x and y\n",
      "0.07907742998352553\n",
      "dice for overlap x and z\n",
      "0.06858185134518924\n",
      "dice for overlap y and z\n",
      "0.9228821987162101\n",
      "dice for overlap x and y\n",
      "0.8718032786885246\n",
      "dice for overlap x and z\n",
      "0.8742727860374919\n",
      "dice for overlap y and z\n",
      "0.9223221586263287\n",
      "dice for overlap x and y\n",
      "0.6982838703368699\n",
      "dice for overlap x and z\n",
      "0.6867167919799498\n",
      "dice for overlap y and z\n",
      "0.9011338770638552\n",
      "dice for overlap x and y\n",
      "0.9145735724099059\n",
      "dice for overlap x and z\n",
      "0.940945571794063\n",
      "dice for overlap y and z\n",
      "0.9240123717137635\n",
      "dice for overlap x and y\n",
      "0.9030762371823451\n",
      "dice for overlap x and z\n",
      "0.9253850948268186\n",
      "dice for overlap y and z\n",
      "0.9280562961667905\n"
     ]
    }
   ],
   "source": [
    "dice_overlap_xy = []\n",
    "dice_overlap_xz = []\n",
    "dice_overlap_yz = []\n",
    "for i in range(len(dataFiles)):\n",
    "    case_name = dataFiles[i]\n",
    "    img_name = 'x.nii.gz'\n",
    "    align_mask= nib.load(os.path.join('test_onlyseg_results_128',case_name,'itk_resampled_mask_'+ img_name))\n",
    "    pre_segA_x = np.array(align_mask.dataobj)\n",
    "    img_name = 'y.nii.gz'\n",
    "    align_mask= nib.load(os.path.join('test_onlyseg_results_128',case_name,'itk_resampled_mask_'+ img_name))\n",
    "    pre_segA_y = np.array(align_mask.dataobj)\n",
    "    img_name = 'z.nii.gz'\n",
    "    align_mask= nib.load(os.path.join('test_onlyseg_results_128',case_name,'itk_resampled_mask_'+ img_name))\n",
    "    pre_segA_z = np.array(align_mask.dataobj)\n",
    "    dice_overlap = dice(np.array(pre_segA_x)>0.5, np.array(pre_segA_y)>0.5,nargout=1)\n",
    "    dice_overlap_xy.append(dice_overlap[0])\n",
    "    print('dice for overlap x and y')\n",
    "    print(dice_overlap[0])\n",
    "    dice_overlap = dice(np.array(pre_segA_x)>0.5, np.array(pre_segA_z)>0.5,nargout=1)\n",
    "    dice_overlap_xz.append(dice_overlap[0])\n",
    "    print('dice for overlap x and z')\n",
    "    print(dice_overlap[0])\n",
    "    dice_overlap = dice(np.array(pre_segA_y)>0.5, np.array(pre_segA_z)>0.5,nargout=1)\n",
    "    dice_overlap_yz.append(dice_overlap[0])\n",
    "    print('dice for overlap y and z')\n",
    "    print(dice_overlap[0])"
   ]
  },
  {
   "cell_type": "code",
   "execution_count": null,
   "id": "a19c0dd6-9c2b-4d7f-97d9-497ba4eb6621",
   "metadata": {},
   "outputs": [],
   "source": []
  }
 ],
 "metadata": {
  "kernelspec": {
   "display_name": "Python 3 (ipykernel)",
   "language": "python",
   "name": "python3"
  },
  "language_info": {
   "codemirror_mode": {
    "name": "ipython",
    "version": 3
   },
   "file_extension": ".py",
   "mimetype": "text/x-python",
   "name": "python",
   "nbconvert_exporter": "python",
   "pygments_lexer": "ipython3",
   "version": "3.7.11"
  }
 },
 "nbformat": 4,
 "nbformat_minor": 5
}
