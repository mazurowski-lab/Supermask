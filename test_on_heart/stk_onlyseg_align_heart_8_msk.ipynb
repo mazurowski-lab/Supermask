{
 "cells": [
  {
   "cell_type": "code",
   "execution_count": 1,
   "id": "0a65c4a3-03b6-4c98-bdea-d267c7c5a9d3",
   "metadata": {},
   "outputs": [],
   "source": [
    "## traditional registration"
   ]
  },
  {
   "cell_type": "code",
   "execution_count": 2,
   "id": "1c905afc-4514-44eb-9939-be0197173339",
   "metadata": {},
   "outputs": [],
   "source": [
    "import SimpleITK as sitk\n",
    "import os\n",
    "from ipywidgets import interact, fixed\n",
    "import matplotlib.pyplot as plt\n",
    "import torchio as tio\n",
    "from monai.transforms import Affine\n",
    "from monai.data import ITKWriter\n",
    "import nibabel as nib\n",
    "import numpy as np\n",
    "from scipy.ndimage import zoom\n",
    "from medipy.metrics import dice"
   ]
  },
  {
   "cell_type": "code",
   "execution_count": 3,
   "id": "0a92f3d5-81ca-492f-a6f1-f42c09e52add",
   "metadata": {},
   "outputs": [],
   "source": [
    "datapath = os.path.join('./Task02_Heart/generated_pairs_8/images/')\n",
    "dataFiles  = sorted(os.listdir(datapath))\n",
    "dataFiles = [i for i in dataFiles if not i.startswith('.')]\n",
    "dataFiles = dataFiles[int(0.8*len(dataFiles)):]"
   ]
  },
  {
   "cell_type": "code",
   "execution_count": 4,
   "id": "0b74d74d-d721-4870-8c78-7eab550e7ebd",
   "metadata": {},
   "outputs": [],
   "source": [
    "case_name = dataFiles[0]\n",
    "img_name = 'y.nii.gz'"
   ]
  },
  {
   "cell_type": "code",
   "execution_count": 5,
   "id": "d8d90c63-25fb-4879-a893-dafaaeb1bce5",
   "metadata": {},
   "outputs": [],
   "source": [
    "moving_image = sitk.ReadImage(os.path.join('test_results_heart',case_name,'image_' + img_name))\n",
    "moving_label = sitk.ReadImage(os.path.join('test_results_heart',case_name,'pre_seg_' + img_name))\n",
    "fixed_image = sitk.ReadImage(os.path.join('test_results_heart',case_name,'gt_' + img_name))"
   ]
  },
  {
   "cell_type": "code",
   "execution_count": 6,
   "id": "815028df-9519-4bf4-a468-0b8c61093218",
   "metadata": {},
   "outputs": [],
   "source": [
    "%matplotlib inline\n",
    "import matplotlib.pyplot as plt\n",
    "\n",
    "from ipywidgets import interact, fixed\n",
    "from IPython.display import clear_output\n",
    "\n",
    "# Callback invoked by the interact IPython method for scrolling through the image stacks of\n",
    "# the two images (moving and fixed).\n",
    "def display_images(fixed_image_z, moving_image_z, fixed_npa, moving_npa):\n",
    "    # Create a figure with two subplots and the specified size.\n",
    "    plt.subplots(1,2,figsize=(10,8))\n",
    "    \n",
    "    # Draw the fixed image in the first subplot.\n",
    "    plt.subplot(1,2,1)\n",
    "    plt.imshow(fixed_npa[fixed_image_z,:,:],cmap=plt.cm.Greys_r);\n",
    "    plt.title('fixed image')\n",
    "    plt.axis('off')\n",
    "    \n",
    "    # Draw the moving image in the second subplot.\n",
    "    plt.subplot(1,2,2)\n",
    "    plt.imshow(moving_npa[moving_image_z,:,:],cmap=plt.cm.Greys_r);\n",
    "    plt.title('moving image')\n",
    "    plt.axis('off')\n",
    "    \n",
    "    plt.show()\n",
    "\n",
    "# Callback invoked by the IPython interact method for scrolling and modifying the alpha blending\n",
    "# of an image stack of two images that occupy the same physical space. \n",
    "def display_images_with_alpha(image_z, alpha, fixed, moving):\n",
    "    img = (1.0 - alpha)*fixed[:,:,image_z] + alpha*moving[:,:,image_z] \n",
    "    plt.imshow(sitk.GetArrayViewFromImage(img),cmap=plt.cm.Greys_r);\n",
    "    plt.axis('off')\n",
    "    plt.show()\n",
    "    \n",
    "# Callback invoked when the StartEvent happens, sets up our new data.\n",
    "def start_plot():\n",
    "    global metric_values, multires_iterations\n",
    "    \n",
    "    metric_values = []\n",
    "    multires_iterations = []\n",
    "\n",
    "# Callback invoked when the EndEvent happens, do cleanup of data and figure.\n",
    "def end_plot():\n",
    "    global metric_values, multires_iterations\n",
    "    \n",
    "    del metric_values\n",
    "    del multires_iterations\n",
    "    # Close figure, we don't want to get a duplicate of the plot latter on.\n",
    "    plt.close()\n",
    "\n",
    "# Callback invoked when the IterationEvent happens, update our data and display new figure.\n",
    "def plot_values(registration_method):\n",
    "    global metric_values, multires_iterations\n",
    "    \n",
    "    metric_values.append(registration_method.GetMetricValue())                                       \n",
    "    # Clear the output area (wait=True, to reduce flickering), and plot current data\n",
    "    clear_output(wait=True)\n",
    "    # Plot the similarity metric values\n",
    "    plt.plot(metric_values, 'r')\n",
    "    plt.plot(multires_iterations, [metric_values[index] for index in multires_iterations], 'b*')\n",
    "    plt.xlabel('Iteration Number',fontsize=12)\n",
    "    plt.ylabel('Metric Value',fontsize=12)\n",
    "    plt.show()\n",
    "    \n",
    "# Callback invoked when the sitkMultiResolutionIterationEvent happens, update the index into the \n",
    "# metric_values list. \n",
    "def update_multires_iterations():\n",
    "    global metric_values, multires_iterations\n",
    "    multires_iterations.append(len(metric_values))"
   ]
  },
  {
   "cell_type": "code",
   "execution_count": 7,
   "id": "38b82edf-976c-4790-9966-89565a43f3d6",
   "metadata": {},
   "outputs": [],
   "source": [
    "initial_transform = sitk.CenteredTransformInitializer(fixed_image, \n",
    "                                                      moving_image, \n",
    "                                                      sitk.Euler3DTransform(), \n",
    "                                                      sitk.CenteredTransformInitializerFilter.GEOMETRY)\n",
    "\n",
    "#moving_resampled = sitk.Resample(moving_image, fixed_image, initial_transform, sitk.sitkLinear, 0.0, moving_image.GetPixelID())\n",
    "\n",
    "#interact(display_images_with_alpha, image_z=(0,fixed_image.GetSize()[2]-1), alpha=(0.0,1.0,0.05), fixed = fixed(fixed_image), moving=fixed(moving_resampled));"
   ]
  },
  {
   "cell_type": "code",
   "execution_count": 9,
   "id": "df76f0d9-fdfb-4a97-80fd-81523407e3f1",
   "metadata": {},
   "outputs": [
    {
     "data": {
      "image/png": "[encoded data removed]",
      "text/plain": [
       "<Figure size 432x288 with 1 Axes>"
      ]
     },
     "metadata": {
      "needs_background": "light"
     },
     "output_type": "display_data"
    }
   ],
   "source": [
    "registration_method = sitk.ImageRegistrationMethod()\n",
    "\n",
    "# Similarity metric settings.\n",
    "registration_method.SetMetricAsCorrelation()\n",
    "registration_method.SetMetricSamplingStrategy(registration_method.RANDOM)\n",
    "registration_method.SetMetricSamplingPercentage(0.01)\n",
    "\n",
    "registration_method.SetInterpolator(sitk.sitkLinear)\n",
    "\n",
    "# Optimizer settings.\n",
    "registration_method.SetOptimizerAsGradientDescent(learningRate=1, numberOfIterations=500, convergenceMinimumValue=1e-6, convergenceWindowSize=10)\n",
    "registration_method.SetOptimizerScalesFromPhysicalShift()\n",
    "\n",
    "# Setup for the multi-resolution framework.            \n",
    "#registration_method.SetShrinkFactorsPerLevel(shrinkFactors = [4,2,1])\n",
    "#registration_method.SetSmoothingSigmasPerLevel(smoothingSigmas=[2,1,0])\n",
    "#registration_method.SmoothingSigmasAreSpecifiedInPhysicalUnitsOn()\n",
    "\n",
    "# Don't optimize in-place, we would possibly like to run this cell multiple times.\n",
    "registration_method.SetInitialTransform(initial_transform, inPlace=False)\n",
    "\n",
    "# Connect all of the observers so that we can perform plotting during registration.\n",
    "registration_method.AddCommand(sitk.sitkStartEvent, start_plot)\n",
    "registration_method.AddCommand(sitk.sitkEndEvent, end_plot)\n",
    "registration_method.AddCommand(sitk.sitkMultiResolutionIterationEvent, update_multires_iterations) \n",
    "registration_method.AddCommand(sitk.sitkIterationEvent, lambda: plot_values(registration_method))\n",
    "\n",
    "final_transform = registration_method.Execute(sitk.Cast(fixed_image, sitk.sitkFloat32), \n",
    "                                               sitk.Cast(moving_image, sitk.sitkFloat32))"
   ]
  },
  {
   "cell_type": "code",
   "execution_count": 15,
   "id": "262c583d-a650-4e3d-8c8b-6e1b02d062d2",
   "metadata": {},
   "outputs": [
    {
     "data": {
      "application/vnd.jupyter.widget-view+json": {
       "model_id": "b865278659454dab84c72b5c260b2d70",
       "version_major": 2,
       "version_minor": 0
      },
      "text/plain": [
       "interactive(children=(IntSlider(value=63, description='image_z', max=127), FloatSlider(value=0.5, description=…"
      ]
     },
     "metadata": {},
     "output_type": "display_data"
    }
   ],
   "source": [
    "moving_resampled = sitk.Resample(moving_image, fixed_image, final_transform, sitk.sitkLinear, 0.0, moving_image.GetPixelID())\n",
    "moving_resampled_label = sitk.Resample(moving_label, fixed_image, final_transform, sitk.sitkLinear, 0.0, moving_image.GetPixelID())\n",
    "sitk.WriteImage(moving_resampled_label, os.path.join('test_results_heart_16',case_name,'itk_resampled_mask_' + img_name))\n",
    "sitk.WriteImage(moving_resampled, os.path.join('test_results_heart_16',case_name,'itk_resampled_image_'+ img_name))\n",
    "interact(display_images_with_alpha, image_z=(0,fixed_image.GetSize()[2] - 1), alpha=(0.0,1.0,0.05), fixed = fixed(fixed_image), moving=fixed(moving_resampled));"
   ]
  },
  {
   "cell_type": "code",
   "execution_count": 12,
   "id": "e1576b21-053b-469f-9483-2e5fc1c30cf4",
   "metadata": {},
   "outputs": [],
   "source": [
    "mask = tio.ScalarImage(os.path.join('Task02_Heart','labelsTr',case_name+'.nii.gz'))\n",
    "resample = tio.Resample((1,1,1),image_interpolation='nearest')\n",
    "mask = resample(mask)\n",
    "transform = tio.CropOrPad(\n",
    "    (256, 256, 256),\n",
    ")\n",
    "mask = transform(mask).data\n",
    "high_mask = mask"
   ]
  },
  {
   "cell_type": "code",
   "execution_count": 14,
   "id": "f6ee451d-44f9-4e7f-a1df-73609234c48f",
   "metadata": {},
   "outputs": [],
   "source": [
    "eval_mask= nib.load(os.path.join('./Task02_Heart/generated_pairs_16/masks/',case_name,img_name))\n",
    "readdata1 = np.array(eval_mask.dataobj)\n",
    "mask = np.expand_dims(readdata1,axis=0)\n",
    "low_mask_x = zoom(mask,(1,1/2,1/2,1/2),order=1)"
   ]
  },
  {
   "cell_type": "code",
   "execution_count": 15,
   "id": "7b60f593-85fb-4731-86cf-c1811ca9e6a7",
   "metadata": {},
   "outputs": [],
   "source": [
    "align_mask= nib.load(os.path.join('test_results_heart_16',case_name,'itk_resampled_mask_' + img_name))\n",
    "pre_segA_x = np.array(align_mask.dataobj)\n",
    "align_image= nib.load(os.path.join('test_results_heart_16',case_name,'itk_resampled_image_' + img_name))\n",
    "align_image_x = np.array(align_image.dataobj)"
   ]
  },
  {
   "cell_type": "code",
   "execution_count": 16,
   "id": "e4f6c28f-0824-4e98-bff4-eea409d03217",
   "metadata": {},
   "outputs": [
    {
     "name": "stdout",
     "output_type": "stream",
     "text": [
      "dice for low resolution mask x\n",
      "[0.6963793]\n",
      "dice for high resolution mask x\n",
      "[0.76422608]\n"
     ]
    }
   ],
   "source": [
    "print('dice for low resolution mask x')\n",
    "print(dice(np.array(pre_segA_x)>0.5, np.array(low_mask_x[0])>0.1,nargout=1))\n",
    "print('dice for high resolution mask x')\n",
    "print(dice(np.array(zoom(pre_segA_x,(2,2,2),order=1))>0.5, np.array(high_mask[0])>0.1,nargout=1))"
   ]
  },
  {
   "cell_type": "code",
   "execution_count": 17,
   "id": "2e022d5b-474b-4da0-8530-7eed0a3f20a2",
   "metadata": {},
   "outputs": [
    {
     "data": {
      "text/plain": [
       "(-0.5, 127.5, 127.5, -0.5)"
      ]
     },
     "execution_count": 17,
     "metadata": {},
     "output_type": "execute_result"
    },
    {
     "data": {
      "image/png": "[encoded data removed]",
      "text/plain": [
       "<Figure size 720x720 with 9 Axes>"
      ]
     },
     "metadata": {
      "needs_background": "light"
     },
     "output_type": "display_data"
    }
   ],
   "source": [
    "fig,a =  plt.subplots(3,3, figsize=(10,10))\n",
    "a[0,0].imshow(align_image_x[64,:],cmap='gray')\n",
    "a[0,0].set_title('view1')\n",
    "a[0,0].axis('off')\n",
    "a[0,1].imshow(align_image_x[:,64,:],cmap='gray')\n",
    "a[0,1].set_title('view2')\n",
    "a[0,1].axis('off')\n",
    "a[0,2].imshow(align_image_x[:,:,64],cmap='gray')\n",
    "a[0,2].set_title('view3')\n",
    "a[0,2].axis('off')\n",
    "a[1,0].imshow(high_mask[0,128,:]>0,cmap='gray')\n",
    "a[1,0].set_title('view1')\n",
    "a[1,0].axis('off')\n",
    "a[1,1].imshow(high_mask[0,:,128,:]>0,cmap='gray')\n",
    "a[1,1].set_title('view2')\n",
    "a[1,1].axis('off')\n",
    "a[1,2].imshow(high_mask[0,:,:,128]>0,cmap='gray')\n",
    "a[1,2].set_title('view3')\n",
    "a[1,2].axis('off')\n",
    "a[2,0].imshow(pre_segA_x[64,:]>0.5,cmap='gray')\n",
    "a[2,0].set_title('view1')\n",
    "a[2,0].axis('off')\n",
    "a[2,1].imshow(pre_segA_x[:,64,:]>0.5,cmap='gray')\n",
    "a[2,1].set_title('view2')\n",
    "a[2,1].axis('off')\n",
    "a[2,2].imshow(pre_segA_x[:,:,64]>0.5,cmap='gray')\n",
    "a[2,2].set_title('view3')\n",
    "a[2,2].axis('off')"
   ]
  },
  {
   "cell_type": "code",
   "execution_count": 8,
   "id": "76c529c3-bd31-4f24-bb08-d686d316bf34",
   "metadata": {},
   "outputs": [],
   "source": [
    "def align(moving_image,moving_label,fixed_image):\n",
    "    initial_transform = sitk.CenteredTransformInitializer(fixed_image, \n",
    "                                                      moving_image, \n",
    "                                                      sitk.Euler3DTransform(), \n",
    "                                                      sitk.CenteredTransformInitializerFilter.GEOMETRY)\n",
    "   #interact(display_images_with_alpha, image_z=(0,fixed_image.GetSize()[2]-1), alpha=(0.0,1.0,0.05), fixed = fixed(fixed_image), moving=fixed(moving_resampled));\n",
    "    registration_method = sitk.ImageRegistrationMethod()\n",
    "\n",
    "    # Similarity metric settings.\n",
    "    registration_method.SetMetricAsCorrelation()\n",
    "    registration_method.SetMetricSamplingStrategy(registration_method.RANDOM)\n",
    "    registration_method.SetMetricSamplingPercentage(0.01)\n",
    "\n",
    "    registration_method.SetInterpolator(sitk.sitkLinear)\n",
    "\n",
    "    # Optimizer settings.\n",
    "    registration_method.SetOptimizerAsGradientDescent(learningRate=1, numberOfIterations=500, convergenceMinimumValue=1e-6, convergenceWindowSize=10)\n",
    "    registration_method.SetOptimizerScalesFromPhysicalShift()\n",
    "\n",
    "    # Setup for the multi-resolution framework.            \n",
    "    #registration_method.SetShrinkFactorsPerLevel(shrinkFactors = [4,2,1])\n",
    "    #registration_method.SetSmoothingSigmasPerLevel(smoothingSigmas=[2,1,0])\n",
    "    #registration_method.SmoothingSigmasAreSpecifiedInPhysicalUnitsOn()\n",
    "\n",
    "    # Don't optimize in-place, we would possibly like to run this cell multiple times.\n",
    "    registration_method.SetInitialTransform(initial_transform, inPlace=False)\n",
    "\n",
    "    # Connect all of the observers so that we can perform plotting during registration.\n",
    "    registration_method.AddCommand(sitk.sitkStartEvent, start_plot)\n",
    "    registration_method.AddCommand(sitk.sitkEndEvent, end_plot)\n",
    "    registration_method.AddCommand(sitk.sitkMultiResolutionIterationEvent, update_multires_iterations) \n",
    "    registration_method.AddCommand(sitk.sitkIterationEvent, lambda: plot_values(registration_method))\n",
    "\n",
    "    final_transform = registration_method.Execute(sitk.Cast(fixed_image, sitk.sitkFloat32), \n",
    "                                                   sitk.Cast(moving_image, sitk.sitkFloat32))\n",
    "    moving_resampled = sitk.Resample(moving_image, fixed_image, final_transform, sitk.sitkLinear, 0.0, moving_image.GetPixelID())\n",
    "    moving_resampled_label = sitk.Resample(moving_label, fixed_image, final_transform, sitk.sitkLinear, 0.0, moving_image.GetPixelID()) \n",
    "    return moving_resampled,moving_resampled_label,final_transform"
   ]
  },
  {
   "cell_type": "code",
   "execution_count": 9,
   "id": "2f3028e4-239e-4a86-be7e-d5ea61d5f0b8",
   "metadata": {},
   "outputs": [],
   "source": [
    "dice_high_x = []\n",
    "dice_high_y = []\n",
    "dice_high_z = []"
   ]
  },
  {
   "cell_type": "code",
   "execution_count": 10,
   "id": "5602c8d3-758f-4ecf-a431-7bca8b7327ec",
   "metadata": {},
   "outputs": [],
   "source": [
    "results_folder = 'test_onlyseg_results_heart'"
   ]
  },
  {
   "cell_type": "code",
   "execution_count": 11,
   "id": "8ff5135d-1f31-4355-ba4c-b2c712ebe60b",
   "metadata": {},
   "outputs": [
    {
     "data": {
      "image/png": "[encoded data removed]",
      "text/plain": [
       "<Figure size 432x288 with 1 Axes>"
      ]
     },
     "metadata": {
      "needs_background": "light"
     },
     "output_type": "display_data"
    },
    {
     "name": "stdout",
     "output_type": "stream",
     "text": [
      "dice for high resolution mask z\n",
      "[0.85955166]\n"
     ]
    }
   ],
   "source": [
    "for i in range(len(dataFiles)):\n",
    "    case_name = dataFiles[i]\n",
    "    mask = tio.ScalarImage(os.path.join('Task02_Heart','labelsTr',case_name+'.nii.gz'))\n",
    "    resample = tio.Resample((1,1,1),image_interpolation='nearest')\n",
    "    mask = resample(mask)\n",
    "    transform = tio.CropOrPad(\n",
    "        (256, 256, 256),\n",
    "    )\n",
    "    mask = transform(mask).data\n",
    "    high_mask = mask\n",
    "\n",
    "    img_name = 'x.nii.gz'\n",
    "    #moving_image = sitk.ReadImage(os.path.join(results_folder,case_name,'image_' + img_name))\n",
    "    moving_label = sitk.ReadImage(os.path.join(results_folder,case_name,'pre_seg_' + img_name))\n",
    "    fixed_label = sitk.ReadImage(os.path.join(results_folder,case_name,'pre_seg_x.nii.gz'))\n",
    "    moving_resampled,moving_resampled_label,final_transform = align(moving_label,moving_label,fixed_label)\n",
    "\n",
    "    #moving_resampled = sitk.Resample(moving_image, fixed_image, final_transform, sitk.sitkLinear, 0.0, moving_image.GetPixelID())\n",
    "    moving_resampled_label = sitk.Resample(moving_label, fixed_label, final_transform, sitk.sitkLinear, 0.0, moving_image.GetPixelID())\n",
    "    sitk.WriteImage(moving_resampled_label, os.path.join(results_folder,case_name,'msk_resampled_mask_' + img_name))\n",
    "    #sitk.WriteImage(moving_resampled, os.path.join(results_folder,case_name,'itk_resampled_image_' + img_name))\n",
    "\n",
    "\n",
    "    align_mask= nib.load(os.path.join(results_folder,case_name,'msk_resampled_mask_'+ img_name))\n",
    "    pre_segA_x = np.array(align_mask.dataobj)\n",
    "\n",
    "    print('dice for high resolution mask x')\n",
    "    dice_now = dice(np.array(zoom(pre_segA_x,(2,2,2),order=1))>0.5, np.array(high_mask[0])>0.1,nargout=1)\n",
    "    dice_high_x.append(dice_now[0])\n",
    "    print(dice_now)\n",
    "\n",
    "    img_name = 'y.nii.gz'\n",
    "    #moving_image = sitk.ReadImage(os.path.join(results_folder,case_name,'image_' + img_name))\n",
    "    moving_label = sitk.ReadImage(os.path.join(results_folder,case_name,'pre_seg_' + img_name))\n",
    "    fixed_label = sitk.ReadImage(os.path.join(results_folder,case_name,'pre_seg_x.nii.gz'))\n",
    "    moving_resampled,moving_resampled_label,final_transform = align(moving_label,moving_label,fixed_label)\n",
    "\n",
    "    #moving_resampled = sitk.Resample(moving_image, fixed_image, final_transform, sitk.sitkLinear, 0.0, moving_image.GetPixelID())\n",
    "    moving_resampled_label = sitk.Resample(moving_label, fixed_label, final_transform, sitk.sitkLinear, 0.0, moving_image.GetPixelID())\n",
    "    sitk.WriteImage(moving_resampled_label, os.path.join(results_folder,case_name,'msk_resampled_mask_' + img_name))\n",
    "    #sitk.WriteImage(moving_resampled, os.path.join(results_folder,case_name,'itk_resampled_image_' + img_name))\n",
    "\n",
    "\n",
    "    align_mask= nib.load(os.path.join(results_folder,case_name,'msk_resampled_mask_'+ img_name))\n",
    "    pre_segA_y = np.array(align_mask.dataobj)\n",
    "\n",
    "    print('dice for high resolution mask y')\n",
    "    dice_now = dice(np.array(zoom(pre_segA_y,(2,2,2),order=1))>0.5, np.array(high_mask[0])>0.1,nargout=1)\n",
    "    dice_high_y.append(dice_now[0])\n",
    "    print(dice_now)\n",
    "\n",
    "    img_name = 'z.nii.gz'\n",
    "    #moving_image = sitk.ReadImage(os.path.join(results_folder,case_name,'image_' + img_name))\n",
    "    moving_label = sitk.ReadImage(os.path.join(results_folder,case_name,'pre_seg_' + img_name))\n",
    "    fixed_label = sitk.ReadImage(os.path.join(results_folder,case_name,'pre_seg_x.nii.gz'))\n",
    "    moving_resampled,moving_resampled_label,final_transform = align(moving_label,moving_label,fixed_label)\n",
    "\n",
    "    #moving_resampled = sitk.Resample(moving_image, fixed_image, final_transform, sitk.sitkLinear, 0.0, moving_image.GetPixelID())\n",
    "    moving_resampled_label = sitk.Resample(moving_label, fixed_label, final_transform, sitk.sitkLinear, 0.0, moving_image.GetPixelID())\n",
    "    sitk.WriteImage(moving_resampled_label, os.path.join(results_folder,case_name,'msk_resampled_mask_' + img_name))\n",
    "    #sitk.WriteImage(moving_resampled, os.path.join(results_folder,case_name,'itk_resampled_image_' + img_name))\n",
    "\n",
    "\n",
    "    align_mask= nib.load(os.path.join(results_folder,case_name,'msk_resampled_mask_'+ img_name))\n",
    "    pre_segA_z = np.array(align_mask.dataobj)\n",
    "\n",
    "    print('dice for high resolution mask z')\n",
    "    dice_now = dice(np.array(zoom(pre_segA_z,(2,2,2),order=1))>0.5, np.array(high_mask[0])>0.1,nargout=1)\n",
    "    dice_high_z.append(dice_now[0])\n",
    "    print(dice_now)"
   ]
  },
  {
   "cell_type": "code",
   "execution_count": 150,
   "id": "114c4afd-2cd7-43a7-9354-77356fce1030",
   "metadata": {},
   "outputs": [
    {
     "data": {
      "text/plain": [
       "0.8814270457151768"
      ]
     },
     "execution_count": 150,
     "metadata": {},
     "output_type": "execute_result"
    }
   ],
   "source": [
    "np.array(dice_overlap_yz).mean()"
   ]
  },
  {
   "cell_type": "code",
   "execution_count": 13,
   "id": "a3cb7d1c-f3c6-420f-bdc9-67591d24defd",
   "metadata": {},
   "outputs": [
    {
     "name": "stdout",
     "output_type": "stream",
     "text": [
      "dice for overlap x and y\n",
      "0.7818189061068398\n",
      "dice for overlap x and z\n",
      "0.7867305907825549\n",
      "dice for overlap y and z\n",
      "0.8081412015234039\n",
      "dice for overlap x and y\n",
      "0.8035896255875875\n",
      "dice for overlap x and z\n",
      "0.7463772910739099\n",
      "dice for overlap y and z\n",
      "0.7292219927215501\n",
      "dice for overlap x and y\n",
      "0.770252754374595\n",
      "dice for overlap x and z\n",
      "0.7819941285201696\n",
      "dice for overlap y and z\n",
      "0.8299080277052344\n",
      "dice for overlap x and y\n",
      "0.7441568345969225\n",
      "dice for overlap x and z\n",
      "0.7721234055700225\n",
      "dice for overlap y and z\n",
      "0.8229838353502341\n"
     ]
    }
   ],
   "source": [
    "dice_overlap_xy = []\n",
    "dice_overlap_xz = []\n",
    "dice_overlap_yz = []\n",
    "for i in range(len(dataFiles)):\n",
    "    case_name = dataFiles[i]\n",
    "    img_name = 'x.nii.gz'\n",
    "    align_mask= nib.load(os.path.join(results_folder,case_name,'itk_resampled_mask_'+ img_name))\n",
    "    pre_segA_x = np.array(align_mask.dataobj)\n",
    "    img_name = 'y.nii.gz'\n",
    "    align_mask= nib.load(os.path.join(results_folder,case_name,'itk_resampled_mask_'+ img_name))\n",
    "    pre_segA_y = np.array(align_mask.dataobj)\n",
    "    img_name = 'z.nii.gz'\n",
    "    align_mask= nib.load(os.path.join(results_folder,case_name,'itk_resampled_mask_'+ img_name))\n",
    "    pre_segA_z = np.array(align_mask.dataobj)\n",
    "    dice_overlap = dice(np.array(pre_segA_x)>0.5, np.array(pre_segA_y)>0.5,nargout=1)\n",
    "    dice_overlap_xy.append(dice_overlap[0])\n",
    "    print('dice for overlap x and y')\n",
    "    print(dice_overlap[0])\n",
    "    dice_overlap = dice(np.array(pre_segA_x)>0.5, np.array(pre_segA_z)>0.5,nargout=1)\n",
    "    dice_overlap_xz.append(dice_overlap[0])\n",
    "    print('dice for overlap x and z')\n",
    "    print(dice_overlap[0])\n",
    "    dice_overlap = dice(np.array(pre_segA_y)>0.5, np.array(pre_segA_z)>0.5,nargout=1)\n",
    "    dice_overlap_yz.append(dice_overlap[0])\n",
    "    print('dice for overlap y and z')\n",
    "    print(dice_overlap[0])"
   ]
  },
  {
   "cell_type": "code",
   "execution_count": null,
   "id": "a19c0dd6-9c2b-4d7f-97d9-497ba4eb6621",
   "metadata": {},
   "outputs": [],
   "source": []
  }
 ],
 "metadata": {
  "kernelspec": {
   "display_name": "Python 3 (ipykernel)",
   "language": "python",
   "name": "python3"
  },
  "language_info": {
   "codemirror_mode": {
    "name": "ipython",
    "version": 3
   },
   "file_extension": ".py",
   "mimetype": "text/x-python",
   "name": "python",
   "nbconvert_exporter": "python",
   "pygments_lexer": "ipython3",
   "version": "3.7.11"
  }
 },
 "nbformat": 4,
 "nbformat_minor": 5
}
